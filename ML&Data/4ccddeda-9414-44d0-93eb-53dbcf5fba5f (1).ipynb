{
 "cells": [
  {
   "cell_type": "markdown",
   "metadata": {},
   "source": [
    "# Рекомендация тарифов"
   ]
  },
  {
   "cell_type": "markdown",
   "metadata": {},
   "source": [
    "## Откройте и изучите файл"
   ]
  },
  {
   "cell_type": "code",
   "execution_count": 1,
   "metadata": {},
   "outputs": [],
   "source": [
    "# Импортируем необходимые библиотеки для работы (буду добавлять в эту ячейку нужные по мере необходимости)\n",
    "import pandas as pd\n",
    "from sklearn.model_selection import train_test_split\n",
    "from sklearn.linear_model import LogisticRegression\n",
    "from sklearn.ensemble import RandomForestClassifier\n",
    "from sklearn.tree import DecisionTreeClassifier\n",
    "from sklearn.metrics import accuracy_score"
   ]
  },
  {
   "cell_type": "code",
   "execution_count": 2,
   "metadata": {},
   "outputs": [
    {
     "name": "stdout",
     "output_type": "stream",
     "text": [
      "   calls  minutes  messages   mb_used  is_ultra\n",
      "0   40.0   311.90      83.0  19915.42         0\n",
      "1   85.0   516.75      56.0  22696.96         0\n",
      "2   77.0   467.66      86.0  21060.45         0\n",
      "3  106.0   745.53      81.0   8437.39         1\n",
      "4   66.0   418.74       1.0  14502.75         0\n",
      "\n",
      "<class 'pandas.core.frame.DataFrame'>\n",
      "RangeIndex: 3214 entries, 0 to 3213\n",
      "Data columns (total 5 columns):\n",
      " #   Column    Non-Null Count  Dtype  \n",
      "---  ------    --------------  -----  \n",
      " 0   calls     3214 non-null   float64\n",
      " 1   minutes   3214 non-null   float64\n",
      " 2   messages  3214 non-null   float64\n",
      " 3   mb_used   3214 non-null   float64\n",
      " 4   is_ultra  3214 non-null   int64  \n",
      "dtypes: float64(4), int64(1)\n",
      "memory usage: 125.7 KB\n",
      "None\n"
     ]
    }
   ],
   "source": [
    "# Читаем файл, смотрим первые 5 строк для изучения\n",
    "df = pd.read_csv('/workspaces/test_project/ML&Data/users_behavior.csv')\n",
    "print(df.head(5))\n",
    "print()\n",
    "print(df.info())"
   ]
  },
  {
   "cell_type": "code",
   "execution_count": 3,
   "metadata": {},
   "outputs": [],
   "source": [
    "# Переведем данные о звонках и сообщениях к типу Int\n",
    "df['calls']= df['calls'].astype('Int64')\n",
    "df['messages']= df['messages'].astype('Int64')"
   ]
  },
  {
   "cell_type": "markdown",
   "metadata": {},
   "source": [
    "Поскольку мы решаем задачу классификации, то мы можем рассмотреть следующие модели:\n",
    "- Модель дерева решений\n",
    "- Модель случайного леса\n",
    "- Модель логистической регрессии"
   ]
  },
  {
   "cell_type": "markdown",
   "metadata": {},
   "source": [
    "## Разбиение данных на выборки"
   ]
  },
  {
   "cell_type": "markdown",
   "metadata": {},
   "source": [
    "Данные будут разбиты на выборки в следующем соотношении:\n",
    "- Учебная - 60%\n",
    "- Тестовая - 20%\n",
    "- Валидационная - 20%"
   ]
  },
  {
   "cell_type": "code",
   "execution_count": 4,
   "metadata": {},
   "outputs": [],
   "source": [
    "# Выделим признаки\n",
    "features = df.drop(['is_ultra'], axis=1)\n",
    "target = df['is_ultra']"
   ]
  },
  {
   "cell_type": "code",
   "execution_count": 5,
   "metadata": {},
   "outputs": [],
   "source": [
    "# Выделим учебную выборку\n",
    "features_train, features_test, target_train, target_test = train_test_split(features,target, test_size=.4, random_state=12345)"
   ]
  },
  {
   "cell_type": "code",
   "execution_count": 6,
   "metadata": {},
   "outputs": [],
   "source": [
    "# Выделим тестовую и валидационную выборки (поделим тестовую из скрипта выше в соотношении 50/50)\n",
    "features_valid, features_test, target_valid, target_test = train_test_split(features_test,target_test, test_size=0.5, random_state=12345) "
   ]
  },
  {
   "cell_type": "code",
   "execution_count": 7,
   "metadata": {},
   "outputs": [
    {
     "name": "stdout",
     "output_type": "stream",
     "text": [
      "(1928, 4)\n",
      "(1928,)\n"
     ]
    }
   ],
   "source": [
    "# Посмотрим на размеры выборок\n",
    "# Обучающая\n",
    "print(features_train.shape)\n",
    "print(target_train.shape)"
   ]
  },
  {
   "cell_type": "code",
   "execution_count": 8,
   "metadata": {},
   "outputs": [
    {
     "name": "stdout",
     "output_type": "stream",
     "text": [
      "(643, 4)\n",
      "(643,)\n"
     ]
    }
   ],
   "source": [
    "# Тестовая\n",
    "print(features_test.shape)\n",
    "print(target_test.shape)"
   ]
  },
  {
   "cell_type": "code",
   "execution_count": 9,
   "metadata": {},
   "outputs": [
    {
     "name": "stdout",
     "output_type": "stream",
     "text": [
      "(643, 4)\n",
      "(643,)\n"
     ]
    }
   ],
   "source": [
    "# Валидационная\n",
    "print(features_valid.shape)\n",
    "print(target_valid.shape)"
   ]
  },
  {
   "cell_type": "markdown",
   "metadata": {},
   "source": [
    "## Исследование модели"
   ]
  },
  {
   "cell_type": "markdown",
   "metadata": {},
   "source": [
    "### Модель дерева решений"
   ]
  },
  {
   "cell_type": "code",
   "execution_count": 10,
   "metadata": {},
   "outputs": [],
   "source": [
    "# Построим модель дерева решений, изменяя параметр глубины дерева от 1 до 10 \n",
    "#с целью нахождения модели с максимальным показателем accuracy\n",
    "best_model_tree = None\n",
    "best_depth_tree = 0\n",
    "best_accuracy_tree = 0\n",
    "for depth in range(1,10):\n",
    "    model_tree = DecisionTreeClassifier(random_state=12345, max_depth=depth).fit(features_train,target_train)\n",
    "    predictions_tree = model_tree.predict(features_valid)\n",
    "    score_tree = accuracy_score(target_valid,predictions_tree)\n",
    "    if best_accuracy_tree<score_tree:\n",
    "        best_model_tree = model_tree\n",
    "        best_depth_tree = depth\n",
    "        best_accuracy_tree = score_tree"
   ]
  },
  {
   "cell_type": "code",
   "execution_count": 11,
   "metadata": {},
   "outputs": [
    {
     "name": "stdout",
     "output_type": "stream",
     "text": [
      "Лучший показатель depth: 3, при нем показатель accuracy равен: 0.7853810264385692\n"
     ]
    }
   ],
   "source": [
    "# Выведем данные о лучшей модели\n",
    "print(f'Лучший показатель depth: {best_depth_tree}, при нем показатель accuracy равен: {best_accuracy_tree}')"
   ]
  },
  {
   "cell_type": "markdown",
   "metadata": {},
   "source": [
    "### Модель случайного леса"
   ]
  },
  {
   "cell_type": "code",
   "execution_count": 12,
   "metadata": {},
   "outputs": [],
   "source": [
    "# Построим модель случайного леса, изменяя параметр глубины дерева и количество деревьев от 1 до 10 \n",
    "#с целью нахождения модели с максимальным показателем accuracy\n",
    "best_model_forest = None\n",
    "best_n_forest = 0\n",
    "best_depth_forest = 0\n",
    "best_accuracy_forest = 0\n",
    "for n in range(1,11):\n",
    "    for depth in range(1,11):\n",
    "        model_forest = RandomForestClassifier(random_state=12345,n_estimators=n,max_depth=depth).fit(features_train,target_train)\n",
    "        predictions_forest = model_forest.predict(features_valid)\n",
    "        score_forest = accuracy_score(target_valid,predictions_forest)\n",
    "        if best_accuracy_forest < score_forest:\n",
    "            best_model_forest = model_forest\n",
    "            best_n_forest = n\n",
    "            best_depth_forest = depth\n",
    "            best_accuracy_forest = score_forest"
   ]
  },
  {
   "cell_type": "code",
   "execution_count": 13,
   "metadata": {
    "scrolled": true
   },
   "outputs": [
    {
     "name": "stdout",
     "output_type": "stream",
     "text": [
      "Лучший показатель depth: 8 с количество деревьев 8, при нем показатель accuracy равен: 0.80248833592535\n"
     ]
    }
   ],
   "source": [
    "# Выведем данные о лучшей модели\n",
    "print(f'Лучший показатель depth: {best_depth_forest} с количество деревьев {best_n_forest}, при нем показатель accuracy равен: {best_accuracy_forest}')"
   ]
  },
  {
   "cell_type": "markdown",
   "metadata": {},
   "source": [
    "### Модель логистической регрессии"
   ]
  },
  {
   "cell_type": "code",
   "execution_count": 14,
   "metadata": {},
   "outputs": [
    {
     "name": "stdout",
     "output_type": "stream",
     "text": [
      "Показатель accuracy модели логистической регрессии равен 0.7107309486780715\n"
     ]
    }
   ],
   "source": [
    "model_regression = LogisticRegression(random_state = 12345).fit(features_train,target_train)\n",
    "predictions_regression = model_regression.predict(features_valid)\n",
    "score_regression = accuracy_score(target_valid,predictions_regression)\n",
    "print(f'Показатель accuracy модели логистической регрессии равен {score_regression}')"
   ]
  },
  {
   "cell_type": "markdown",
   "metadata": {},
   "source": [
    "Таким образом, среди всех моделей наибольший показатель accuracy у модели случайного леса с 8 деревьями и показателем depth 8"
   ]
  },
  {
   "cell_type": "markdown",
   "metadata": {},
   "source": [
    "## Проверка модели на тестовой выборке"
   ]
  },
  {
   "cell_type": "code",
   "execution_count": 15,
   "metadata": {},
   "outputs": [
    {
     "name": "stdout",
     "output_type": "stream",
     "text": [
      "Показатель accuracy по тестовой выборке у наилучшей модели: 0.7962674961119751\n"
     ]
    }
   ],
   "source": [
    "# Проверим лучшую модель на тестовой выборке\n",
    "predictions_test = best_model_forest.predict(features_test)\n",
    "accuracy_test = accuracy_score(target_test,predictions_test)\n",
    "print(f'Показатель accuracy по тестовой выборке у наилучшей модели: {accuracy_test}')"
   ]
  }
 ],
 "metadata": {
  "ExecuteTimeLog": [
   {
    "duration": 400,
    "start_time": "2023-07-02T09:48:08.173Z"
   },
   {
    "duration": 92,
    "start_time": "2023-07-02T09:48:32.010Z"
   },
   {
    "duration": 25,
    "start_time": "2023-07-02T09:49:27.324Z"
   },
   {
    "duration": 15,
    "start_time": "2023-07-02T09:49:36.704Z"
   },
   {
    "duration": 22,
    "start_time": "2023-07-02T09:49:53.623Z"
   },
   {
    "duration": 40,
    "start_time": "2023-07-02T09:50:05.654Z"
   },
   {
    "duration": 30,
    "start_time": "2023-07-02T09:50:11.560Z"
   },
   {
    "duration": 27,
    "start_time": "2023-07-02T09:50:31.695Z"
   },
   {
    "duration": 12,
    "start_time": "2023-07-02T09:50:55.872Z"
   },
   {
    "duration": 43,
    "start_time": "2023-07-02T09:51:00.041Z"
   },
   {
    "duration": 38,
    "start_time": "2023-07-02T09:51:07.301Z"
   },
   {
    "duration": 44,
    "start_time": "2023-07-02T09:51:12.941Z"
   },
   {
    "duration": 750,
    "start_time": "2023-07-02T09:56:40.905Z"
   },
   {
    "duration": 12,
    "start_time": "2023-07-02T10:05:29.779Z"
   },
   {
    "duration": 117,
    "start_time": "2023-07-02T10:05:38.940Z"
   },
   {
    "duration": 9,
    "start_time": "2023-07-02T10:05:43.321Z"
   },
   {
    "duration": 14,
    "start_time": "2023-07-02T10:05:49.043Z"
   },
   {
    "duration": 13,
    "start_time": "2023-07-02T10:05:58.763Z"
   },
   {
    "duration": 6,
    "start_time": "2023-07-02T10:10:13.871Z"
   },
   {
    "duration": 23,
    "start_time": "2023-07-02T11:43:30.744Z"
   },
   {
    "duration": 1164,
    "start_time": "2023-07-02T11:43:44.302Z"
   },
   {
    "duration": 52,
    "start_time": "2023-07-02T11:43:45.469Z"
   },
   {
    "duration": 105,
    "start_time": "2023-07-02T11:43:45.524Z"
   },
   {
    "duration": 6,
    "start_time": "2023-07-02T11:45:01.610Z"
   },
   {
    "duration": 5,
    "start_time": "2023-07-02T11:51:30.038Z"
   },
   {
    "duration": 6,
    "start_time": "2023-07-02T11:53:33.821Z"
   },
   {
    "duration": 9,
    "start_time": "2023-07-02T11:54:42.128Z"
   },
   {
    "duration": 9,
    "start_time": "2023-07-02T11:54:45.848Z"
   },
   {
    "duration": 3,
    "start_time": "2023-07-02T11:54:52.529Z"
   },
   {
    "duration": 4,
    "start_time": "2023-07-02T11:55:47.917Z"
   },
   {
    "duration": 4,
    "start_time": "2023-07-02T11:55:53.813Z"
   },
   {
    "duration": 6,
    "start_time": "2023-07-02T11:56:09.656Z"
   },
   {
    "duration": 3,
    "start_time": "2023-07-02T11:56:22.345Z"
   },
   {
    "duration": 1161,
    "start_time": "2023-07-02T11:58:18.153Z"
   },
   {
    "duration": 41,
    "start_time": "2023-07-02T11:58:19.316Z"
   },
   {
    "duration": 9,
    "start_time": "2023-07-02T11:58:19.359Z"
   },
   {
    "duration": 23,
    "start_time": "2023-07-02T11:58:19.370Z"
   },
   {
    "duration": 7,
    "start_time": "2023-07-02T11:58:19.396Z"
   },
   {
    "duration": 5,
    "start_time": "2023-07-02T11:58:19.404Z"
   },
   {
    "duration": 10,
    "start_time": "2023-07-02T11:58:19.410Z"
   },
   {
    "duration": 6,
    "start_time": "2023-07-02T11:58:19.422Z"
   },
   {
    "duration": 2,
    "start_time": "2023-07-02T12:04:32.056Z"
   },
   {
    "duration": 276,
    "start_time": "2023-07-02T12:06:05.621Z"
   },
   {
    "duration": 3,
    "start_time": "2023-07-02T12:06:11.095Z"
   },
   {
    "duration": 3,
    "start_time": "2023-07-02T12:08:50.997Z"
   },
   {
    "duration": 56,
    "start_time": "2023-07-02T12:10:20.598Z"
   },
   {
    "duration": 3,
    "start_time": "2023-07-02T12:10:43.109Z"
   },
   {
    "duration": 3,
    "start_time": "2023-07-02T12:10:49.172Z"
   },
   {
    "duration": 3,
    "start_time": "2023-07-02T12:11:49.525Z"
   },
   {
    "duration": 4,
    "start_time": "2023-07-02T12:11:54.597Z"
   },
   {
    "duration": 70,
    "start_time": "2023-07-02T12:15:23.950Z"
   },
   {
    "duration": 6,
    "start_time": "2023-07-02T12:15:24.321Z"
   },
   {
    "duration": 16,
    "start_time": "2023-07-02T12:16:47.497Z"
   },
   {
    "duration": 15,
    "start_time": "2023-07-02T12:16:56.971Z"
   },
   {
    "duration": 17,
    "start_time": "2023-07-02T12:17:07.391Z"
   },
   {
    "duration": 1596,
    "start_time": "2023-07-02T12:17:24.157Z"
   },
   {
    "duration": 3,
    "start_time": "2023-07-02T12:17:57.198Z"
   },
   {
    "duration": 23,
    "start_time": "2023-07-02T12:46:28.136Z"
   },
   {
    "duration": 27,
    "start_time": "2023-07-02T12:47:45.573Z"
   },
   {
    "duration": 13,
    "start_time": "2023-07-02T12:51:09.702Z"
   },
   {
    "duration": 31,
    "start_time": "2023-07-02T12:51:34.557Z"
   },
   {
    "duration": 7,
    "start_time": "2023-07-02T12:55:52.783Z"
   },
   {
    "duration": 20,
    "start_time": "2023-07-02T12:56:04.762Z"
   },
   {
    "duration": 4,
    "start_time": "2023-07-02T12:56:26.105Z"
   },
   {
    "duration": 1631,
    "start_time": "2023-07-02T12:56:31.480Z"
   },
   {
    "duration": 43,
    "start_time": "2023-07-02T12:56:33.113Z"
   },
   {
    "duration": 18,
    "start_time": "2023-07-02T12:56:33.158Z"
   },
   {
    "duration": 12,
    "start_time": "2023-07-02T12:56:33.179Z"
   },
   {
    "duration": 8,
    "start_time": "2023-07-02T12:56:33.194Z"
   },
   {
    "duration": 5,
    "start_time": "2023-07-02T12:56:33.203Z"
   },
   {
    "duration": 5,
    "start_time": "2023-07-02T12:56:33.210Z"
   },
   {
    "duration": 8,
    "start_time": "2023-07-02T12:56:33.216Z"
   },
   {
    "duration": 14,
    "start_time": "2023-07-02T12:56:33.225Z"
   },
   {
    "duration": 108,
    "start_time": "2023-07-02T12:56:33.241Z"
   },
   {
    "duration": 0,
    "start_time": "2023-07-02T12:56:33.351Z"
   },
   {
    "duration": 0,
    "start_time": "2023-07-02T12:56:33.352Z"
   },
   {
    "duration": 0,
    "start_time": "2023-07-02T12:56:33.354Z"
   },
   {
    "duration": 0,
    "start_time": "2023-07-02T12:56:33.354Z"
   },
   {
    "duration": 0,
    "start_time": "2023-07-02T12:56:33.355Z"
   },
   {
    "duration": 1210,
    "start_time": "2023-07-02T12:57:00.542Z"
   },
   {
    "duration": 59,
    "start_time": "2023-07-02T12:57:01.754Z"
   },
   {
    "duration": 4,
    "start_time": "2023-07-02T12:57:01.815Z"
   },
   {
    "duration": 21,
    "start_time": "2023-07-02T12:57:01.821Z"
   },
   {
    "duration": 43,
    "start_time": "2023-07-02T12:57:01.845Z"
   },
   {
    "duration": 26,
    "start_time": "2023-07-02T12:57:01.889Z"
   },
   {
    "duration": 53,
    "start_time": "2023-07-02T12:57:01.917Z"
   },
   {
    "duration": 45,
    "start_time": "2023-07-02T12:57:01.976Z"
   },
   {
    "duration": 52,
    "start_time": "2023-07-02T12:57:02.023Z"
   },
   {
    "duration": 123,
    "start_time": "2023-07-02T12:57:02.078Z"
   },
   {
    "duration": 3,
    "start_time": "2023-07-02T12:57:02.203Z"
   },
   {
    "duration": 1963,
    "start_time": "2023-07-02T12:57:02.207Z"
   },
   {
    "duration": 7,
    "start_time": "2023-07-02T12:57:04.177Z"
   },
   {
    "duration": 48,
    "start_time": "2023-07-02T12:57:04.186Z"
   },
   {
    "duration": 11,
    "start_time": "2023-07-02T12:57:04.236Z"
   },
   {
    "duration": 1288,
    "start_time": "2023-07-02T13:02:23.675Z"
   },
   {
    "duration": 50,
    "start_time": "2023-07-02T13:02:24.965Z"
   },
   {
    "duration": 6,
    "start_time": "2023-07-02T13:02:25.017Z"
   },
   {
    "duration": 11,
    "start_time": "2023-07-02T13:02:25.024Z"
   },
   {
    "duration": 7,
    "start_time": "2023-07-02T13:02:25.038Z"
   },
   {
    "duration": 8,
    "start_time": "2023-07-02T13:02:25.046Z"
   },
   {
    "duration": 16,
    "start_time": "2023-07-02T13:02:25.056Z"
   },
   {
    "duration": 4,
    "start_time": "2023-07-02T13:02:25.074Z"
   },
   {
    "duration": 12,
    "start_time": "2023-07-02T13:02:25.080Z"
   },
   {
    "duration": 79,
    "start_time": "2023-07-02T13:02:25.094Z"
   },
   {
    "duration": 3,
    "start_time": "2023-07-02T13:02:25.175Z"
   },
   {
    "duration": 1810,
    "start_time": "2023-07-02T13:02:25.180Z"
   },
   {
    "duration": 3,
    "start_time": "2023-07-02T13:02:26.992Z"
   },
   {
    "duration": 32,
    "start_time": "2023-07-02T13:02:26.997Z"
   },
   {
    "duration": 10,
    "start_time": "2023-07-02T13:02:27.031Z"
   },
   {
    "duration": 1136,
    "start_time": "2023-07-02T13:03:43.941Z"
   },
   {
    "duration": 44,
    "start_time": "2023-07-02T13:03:45.081Z"
   },
   {
    "duration": 6,
    "start_time": "2023-07-02T13:03:45.126Z"
   },
   {
    "duration": 13,
    "start_time": "2023-07-02T13:03:45.133Z"
   },
   {
    "duration": 23,
    "start_time": "2023-07-02T13:03:45.148Z"
   },
   {
    "duration": 24,
    "start_time": "2023-07-02T13:03:45.173Z"
   },
   {
    "duration": 15,
    "start_time": "2023-07-02T13:03:45.199Z"
   },
   {
    "duration": 24,
    "start_time": "2023-07-02T13:03:45.215Z"
   },
   {
    "duration": 6,
    "start_time": "2023-07-02T13:03:45.241Z"
   },
   {
    "duration": 69,
    "start_time": "2023-07-02T13:03:45.248Z"
   },
   {
    "duration": 2,
    "start_time": "2023-07-02T13:03:45.319Z"
   },
   {
    "duration": 1676,
    "start_time": "2023-07-02T13:03:45.323Z"
   },
   {
    "duration": 3,
    "start_time": "2023-07-02T13:03:47.001Z"
   },
   {
    "duration": 37,
    "start_time": "2023-07-02T13:03:47.006Z"
   },
   {
    "duration": 31,
    "start_time": "2023-07-02T13:03:47.045Z"
   }
  ],
  "kernelspec": {
   "display_name": "Python 3 (ipykernel)",
   "language": "python",
   "name": "python3"
  },
  "language_info": {
   "codemirror_mode": {
    "name": "ipython",
    "version": 3
   },
   "file_extension": ".py",
   "mimetype": "text/x-python",
   "name": "python",
   "nbconvert_exporter": "python",
   "pygments_lexer": "ipython3",
   "version": "3.9.5"
  },
  "toc": {
   "base_numbering": 1,
   "nav_menu": {},
   "number_sections": true,
   "sideBar": true,
   "skip_h1_title": true,
   "title_cell": "Table of Contents",
   "title_sidebar": "Contents",
   "toc_cell": false,
   "toc_position": {},
   "toc_section_display": true,
   "toc_window_display": false
  }
 },
 "nbformat": 4,
 "nbformat_minor": 2
}
